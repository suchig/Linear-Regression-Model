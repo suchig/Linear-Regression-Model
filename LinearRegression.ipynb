{
 "cells": [
  {
   "cell_type": "markdown",
   "metadata": {},
   "source": [
    "This code provides Cost and gradient descent for a simple Linear regression"
   ]
  },
  {
   "cell_type": "code",
   "execution_count": 2,
   "metadata": {},
   "outputs": [],
   "source": [
    "import numpy as np"
   ]
  },
  {
   "cell_type": "markdown",
   "metadata": {},
   "source": [
    "computeCost finds the cost using Linear Regression"
   ]
  },
  {
   "cell_type": "code",
   "execution_count": 3,
   "metadata": {},
   "outputs": [],
   "source": [
    "def computeCost(X, y, theta):\n",
    "    m = y.size;\n",
    "    J= sum(((X.dot(theta))-y)**2)/(2*m);\n",
    "    return(J);"
   ]
  },
  {
   "cell_type": "code",
   "execution_count": 4,
   "metadata": {},
   "outputs": [],
   "source": [
    "data = np.loadtxt('ex1data1.txt',delimiter=',');\n",
    "y = np.array(data[:,1],order='C',ndmin=2).T;\n",
    "X = np.c_[np.ones((y.size,1)),data[:,0]];"
   ]
  },
  {
   "cell_type": "code",
   "execution_count": 5,
   "metadata": {},
   "outputs": [
    {
     "name": "stdout",
     "output_type": "stream",
     "text": [
      "[32.07273388]\n"
     ]
    }
   ],
   "source": [
    "theta = np.zeros((2,1));\n",
    "J=computeCost(X,y,theta);\n",
    "print(J);"
   ]
  },
  {
   "cell_type": "code",
   "execution_count": 6,
   "metadata": {},
   "outputs": [
    {
     "name": "stdout",
     "output_type": "stream",
     "text": [
      "[54.24245508]\n"
     ]
    }
   ],
   "source": [
    "theta = [[-1],[2]];\n",
    "J=computeCost(X,y,theta);\n",
    "print(J);"
   ]
  },
  {
   "cell_type": "code",
   "execution_count": 12,
   "metadata": {},
   "outputs": [
    {
     "data": {
      "text/plain": [
       "array([0., 0.])"
      ]
     },
     "execution_count": 12,
     "metadata": {},
     "output_type": "execute_result"
    }
   ],
   "source": [
    "z=np.zeros((2,2));\n",
    "z[0]"
   ]
  },
  {
   "cell_type": "markdown",
   "metadata": {},
   "source": [
    "gradientDescent calculates the gradient descent over a certain iterations to ultimately identify low cost"
   ]
  },
  {
   "cell_type": "code",
   "execution_count": 53,
   "metadata": {},
   "outputs": [],
   "source": [
    "def gradientDescent(X,y,theta,alpha,iterations):\n",
    "    m=y.size;\n",
    "    J_history=np.zeros((iterations,1));\n",
    "    for i in range(0,iterations):\n",
    "        theta = theta-np.transpose((alpha/m)*(np.transpose(X.dot(theta)-y).dot(X)));\n",
    "        J_history[i]=computeCost(X,y,theta);\n",
    "    return theta,J_history;"
   ]
  },
  {
   "cell_type": "code",
   "execution_count": 55,
   "metadata": {},
   "outputs": [
    {
     "name": "stdout",
     "output_type": "stream",
     "text": [
      "[[-3.63029144]\n",
      " [ 1.16636235]]\n"
     ]
    }
   ],
   "source": [
    "theta = np.zeros((2,1));\n",
    "theta,J_history = gradientDescent(X,y,theta,0.01,1500);\n",
    "print(theta);"
   ]
  },
  {
   "cell_type": "code",
   "execution_count": null,
   "metadata": {},
   "outputs": [],
   "source": []
  }
 ],
 "metadata": {
  "kernelspec": {
   "display_name": "Python 3",
   "language": "python",
   "name": "python3"
  },
  "language_info": {
   "codemirror_mode": {
    "name": "ipython",
    "version": 3
   },
   "file_extension": ".py",
   "mimetype": "text/x-python",
   "name": "python",
   "nbconvert_exporter": "python",
   "pygments_lexer": "ipython3",
   "version": "3.7.0"
  }
 },
 "nbformat": 4,
 "nbformat_minor": 2
}
